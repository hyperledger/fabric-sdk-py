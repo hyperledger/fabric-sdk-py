{
 "cells": [
  {
   "cell_type": "markdown",
   "metadata": {},
   "source": [
    "# Fabric SDK Python\n",
    "\n",
    "Before getting started, make sure the Python SDK is installed properly and the network is up and running.\n",
    "For more information regarding installation process and how to set up the network please refer to [this](https://github.com/hyperledger/fabric-sdk-py/blob/master/docs/source/tutorial.md)."
   ]
  },
  {
   "cell_type": "markdown",
   "metadata": {},
   "source": [
    "Run the bellow code block to import an instance of a client from the network profile already provided"
   ]
  },
  {
   "cell_type": "code",
   "execution_count": null,
   "metadata": {},
   "outputs": [],
   "source": [
    "from hfc.fabric import Client\n",
    "\n",
    "cli = Client(net_profile=\"test/fixtures/network.json\")\n",
    "\n",
    "print(cli.organizations)  # orgs in the network\n",
    "print(cli.peers)  # peers in the network\n",
    "print(cli.orderers)  # orderers in the network\n",
    "print(cli.CAs)  # ca nodes in the network"
   ]
  },
  {
   "cell_type": "code",
   "execution_count": null,
   "metadata": {},
   "outputs": [],
   "source": [
    "org1_admin = cli.get_user(org_name='org1.example.com', name='Admin') # User instance with the Org1 admin's certs\n",
    "org2_admin = cli.get_user(org_name='org2.example.com', name='Admin') # User instance with the Org2 admin's certs\n",
    "orderer_admin = cli.get_user(org_name='orderer.example.com', name='Admin') # User instance with the orderer's certs"
   ]
  },
  {
   "cell_type": "markdown",
   "metadata": {},
   "source": [
    "Run the bellow code snippet to create a channel with the name 'business' channel.\n",
    "This command will return True if the channel was created successfully."
   ]
  },
  {
   "cell_type": "code",
   "execution_count": null,
   "metadata": {},
   "outputs": [],
   "source": [
    "# Create a New Channel, the response should be true if succeed\n",
    "response = await cli.channel_create(\n",
    "                    orderer='orderer.example.com',\n",
    "                    channel_name='businesschannel',\n",
    "                    requestor=org1_admin,\n",
    "                    config_yaml='test/fixtures/e2e_cli/',\n",
    "                    channel_profile='TwoOrgsChannel'\n",
    "                    )\n",
    "\n",
    "# response = true is returned if the channel is created successfully\n",
    "print(response)"
   ]
  },
  {
   "cell_type": "markdown",
   "metadata": {},
   "source": [
    "Run the below code snippet to make the peers of Org1 join the channel."
   ]
  },
  {
   "cell_type": "code",
   "execution_count": null,
   "metadata": {},
   "outputs": [],
   "source": [
    "# Join Peers into Channel, the response should be true if succeed\n",
    "responses = await cli.channel_join(\n",
    "                       requestor=org1_admin,\n",
    "                       channel_name='businesschannel',\n",
    "                       peers=['peer0.org1.example.com',\n",
    "                      'peer1.org1.example.com'],\n",
    "                       orderer='orderer.example.com'\n",
    "                       )\n",
    "\n",
    "# The length of the response should be two as len(peers) = 2\n",
    "print(len(responses) == 2)"
   ]
  },
  {
   "cell_type": "markdown",
   "metadata": {},
   "source": [
    "Run the below code snippet to make the peers of Org1 join the channel."
   ]
  },
  {
   "cell_type": "code",
   "execution_count": null,
   "metadata": {},
   "outputs": [],
   "source": [
    "# For operations on peers from org2.example.com, org2_admin is required as requestor\n",
    "responses = await cli.channel_join(\n",
    "                       requestor=org2_admin,\n",
    "                       channel_name='businesschannel',\n",
    "                       peers=['peer0.org2.example.com',\n",
    "                      'peer1.org2.example.com'],\n",
    "                       orderer='orderer.example.com'\n",
    "                       )\n",
    "\n",
    "# The length of the response should be two as len(peers) = 2\n",
    "print(len(responses) == 2)"
   ]
  }
 ],
 "metadata": {
  "kernelspec": {
   "display_name": "Python 3",
   "language": "python",
   "name": "python3"
  },
  "language_info": {
   "codemirror_mode": {
    "name": "ipython",
    "version": 3
   },
   "file_extension": ".py",
   "mimetype": "text/x-python",
   "name": "python",
   "nbconvert_exporter": "python",
   "pygments_lexer": "ipython3",
   "version": "3.6.9"
  }
 },
 "nbformat": 4,
 "nbformat_minor": 4
}
